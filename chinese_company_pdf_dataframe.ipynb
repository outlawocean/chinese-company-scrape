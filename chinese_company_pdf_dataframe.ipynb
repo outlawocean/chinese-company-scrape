{
  "cells": [
    {
      "cell_type": "code",
      "execution_count": null,
      "metadata": {
        "id": "UmU6pkq3EDAx"
      },
      "outputs": [],
      "source": [
        "import pandas as pd\n",
        "pd.set_option(\"display.max_columns\", None)\n",
        "pd.set_option(\"display.max_rows\", None)\n",
        "pd.set_option(\"display.max_colwidth\", None)\n",
        "pd.set_option('display.float_format', lambda x: '%.3f' % x)\n",
        "import numpy as np\n",
        "import matplotlib.pyplot as plt\n",
        "import seaborn as sns\n",
        "import datetime"
      ]
    },
    {
      "cell_type": "code",
      "execution_count": null,
      "metadata": {
        "id": "eXMT4i9GEDA1"
      },
      "outputs": [],
      "source": [
        "# utilize the tabula-py package to OCR pdf files\n",
        "import tabula"
      ]
    },
    {
      "cell_type": "code",
      "source": [
        "# import the first pdf\n",
        "\n",
        "file_path =  #local path\n",
        "file_name_1 = \"valid_demostration_sites.pdf\"\n",
        "file_1 = file_path+file_name_1"
      ],
      "metadata": {
        "id": "YZLIqbgUEwUw"
      },
      "execution_count": null,
      "outputs": []
    },
    {
      "cell_type": "code",
      "execution_count": null,
      "metadata": {
        "id": "Sa7BySjxEDA2",
        "outputId": "c56b1681-a698-4c85-fc39-260075a9a553"
      },
      "outputs": [
        {
          "name": "stderr",
          "output_type": "stream",
          "text": [
            "Failed to import jpype dependencies. Fallback to subprocess.\n",
            "No module named 'jpype'\n"
          ]
        }
      ],
      "source": [
        "# import all pages from the first pdf\n",
        "dfs = tabula.read_pdf(file_1, pages='all')"
      ]
    },
    {
      "cell_type": "code",
      "execution_count": null,
      "metadata": {
        "id": "laBO_BhSEDA2",
        "outputId": "39a5c3b4-14cb-45ba-a7a7-35f7579b2f4a"
      },
      "outputs": [
        {
          "data": {
            "text/plain": [
              "30"
            ]
          },
          "execution_count": 5,
          "metadata": {},
          "output_type": "execute_result"
        }
      ],
      "source": [
        "# check the number of pages\n",
        "len(dfs)"
      ]
    },
    {
      "cell_type": "code",
      "execution_count": null,
      "metadata": {
        "id": "WvEWKin2EDA3",
        "outputId": "22a1738d-980c-4cd5-8c29-a660e2365ebb"
      },
      "outputs": [
        {
          "data": {
            "text/html": [
              "<div>\n",
              "<style scoped>\n",
              "    .dataframe tbody tr th:only-of-type {\n",
              "        vertical-align: middle;\n",
              "    }\n",
              "\n",
              "    .dataframe tbody tr th {\n",
              "        vertical-align: top;\n",
              "    }\n",
              "\n",
              "    .dataframe thead th {\n",
              "        text-align: right;\n",
              "    }\n",
              "</style>\n",
              "<table border=\"1\" class=\"dataframe\">\n",
              "  <thead>\n",
              "    <tr style=\"text-align: right;\">\n",
              "      <th></th>\n",
              "      <th>序号</th>\n",
              "      <th>省份</th>\n",
              "      <th>单位名称</th>\n",
              "    </tr>\n",
              "  </thead>\n",
              "  <tbody>\n",
              "    <tr>\n",
              "      <th>0</th>\n",
              "      <td>1</td>\n",
              "      <td>天津</td>\n",
              "      <td>天津市民欣水产养殖专业合作社</td>\n",
              "    </tr>\n",
              "    <tr>\n",
              "      <th>1</th>\n",
              "      <td>2</td>\n",
              "      <td>天津</td>\n",
              "      <td>天津海升水产养殖有限公司</td>\n",
              "    </tr>\n",
              "    <tr>\n",
              "      <th>2</th>\n",
              "      <td>3</td>\n",
              "      <td>天津</td>\n",
              "      <td>天津淳康瑞水产养殖有限公司</td>\n",
              "    </tr>\n",
              "    <tr>\n",
              "      <th>3</th>\n",
              "      <td>4</td>\n",
              "      <td>天津</td>\n",
              "      <td>天津鑫永丰水产养殖有限公司</td>\n",
              "    </tr>\n",
              "    <tr>\n",
              "      <th>4</th>\n",
              "      <td>5</td>\n",
              "      <td>天津</td>\n",
              "      <td>天津市晟淼水产养殖有限公司</td>\n",
              "    </tr>\n",
              "  </tbody>\n",
              "</table>\n",
              "</div>"
            ],
            "text/plain": [
              "   序号  省份            单位名称\n",
              "0   1  天津  天津市民欣水产养殖专业合作社\n",
              "1   2  天津    天津海升水产养殖有限公司\n",
              "2   3  天津   天津淳康瑞水产养殖有限公司\n",
              "3   4  天津   天津鑫永丰水产养殖有限公司\n",
              "4   5  天津   天津市晟淼水产养殖有限公司"
            ]
          },
          "execution_count": 6,
          "metadata": {},
          "output_type": "execute_result"
        }
      ],
      "source": [
        "# check the first table\n",
        "dfs[0].head()"
      ]
    },
    {
      "cell_type": "code",
      "execution_count": null,
      "metadata": {
        "id": "K3J_ab5MEDA3",
        "outputId": "ea59b454-ef8f-4491-ccd1-b6895825c68f"
      },
      "outputs": [
        {
          "data": {
            "text/html": [
              "<div>\n",
              "<style scoped>\n",
              "    .dataframe tbody tr th:only-of-type {\n",
              "        vertical-align: middle;\n",
              "    }\n",
              "\n",
              "    .dataframe tbody tr th {\n",
              "        vertical-align: top;\n",
              "    }\n",
              "\n",
              "    .dataframe thead th {\n",
              "        text-align: right;\n",
              "    }\n",
              "</style>\n",
              "<table border=\"1\" class=\"dataframe\">\n",
              "  <thead>\n",
              "    <tr style=\"text-align: right;\">\n",
              "      <th></th>\n",
              "      <th>26</th>\n",
              "      <th>河北</th>\n",
              "      <th>霸州市柒零年代种养殖专业合作社</th>\n",
              "    </tr>\n",
              "  </thead>\n",
              "  <tbody>\n",
              "    <tr>\n",
              "      <th>0</th>\n",
              "      <td>27</td>\n",
              "      <td>河北</td>\n",
              "      <td>阜平县思铭乡村大酒店(所属水产养殖场)</td>\n",
              "    </tr>\n",
              "    <tr>\n",
              "      <th>1</th>\n",
              "      <td>28</td>\n",
              "      <td>河北</td>\n",
              "      <td>平山县凤龙养鱼场</td>\n",
              "    </tr>\n",
              "    <tr>\n",
              "      <th>2</th>\n",
              "      <td>29</td>\n",
              "      <td>河北</td>\n",
              "      <td>平山县郎咸玲冷水鱼养殖场</td>\n",
              "    </tr>\n",
              "    <tr>\n",
              "      <th>3</th>\n",
              "      <td>30</td>\n",
              "      <td>河北</td>\n",
              "      <td>井陉县绵冶冷水鱼养殖有限公司</td>\n",
              "    </tr>\n",
              "    <tr>\n",
              "      <th>4</th>\n",
              "      <td>31</td>\n",
              "      <td>河北</td>\n",
              "      <td>石家庄市鹿泉区田语生态观光园有限公司(所属水产养殖场)</td>\n",
              "    </tr>\n",
              "    <tr>\n",
              "      <th>5</th>\n",
              "      <td>32</td>\n",
              "      <td>河北</td>\n",
              "      <td>鹿泉区万祥家庭农场</td>\n",
              "    </tr>\n",
              "    <tr>\n",
              "      <th>6</th>\n",
              "      <td>33</td>\n",
              "      <td>河北</td>\n",
              "      <td>鹿泉区黄滹甲鱼养殖场</td>\n",
              "    </tr>\n",
              "    <tr>\n",
              "      <th>7</th>\n",
              "      <td>34</td>\n",
              "      <td>河北</td>\n",
              "      <td>鹿泉区金龟园养殖场</td>\n",
              "    </tr>\n",
              "    <tr>\n",
              "      <th>8</th>\n",
              "      <td>35</td>\n",
              "      <td>河北</td>\n",
              "      <td>磁县学文养殖场</td>\n",
              "    </tr>\n",
              "    <tr>\n",
              "      <th>9</th>\n",
              "      <td>36</td>\n",
              "      <td>河北</td>\n",
              "      <td>河北福源水产养殖有限公司</td>\n",
              "    </tr>\n",
              "    <tr>\n",
              "      <th>10</th>\n",
              "      <td>37</td>\n",
              "      <td>河北</td>\n",
              "      <td>邯郸市鑫垚农业科技有限公司(所属水产养殖场)</td>\n",
              "    </tr>\n",
              "    <tr>\n",
              "      <th>11</th>\n",
              "      <td>38</td>\n",
              "      <td>河北</td>\n",
              "      <td>秦皇岛启民水产养殖有限公司</td>\n",
              "    </tr>\n",
              "    <tr>\n",
              "      <th>12</th>\n",
              "      <td>39</td>\n",
              "      <td>河北</td>\n",
              "      <td>昌黎县振利水产养殖有限公司</td>\n",
              "    </tr>\n",
              "    <tr>\n",
              "      <th>13</th>\n",
              "      <td>40</td>\n",
              "      <td>河北</td>\n",
              "      <td>卢龙县永新水产养殖专业合作社</td>\n",
              "    </tr>\n",
              "    <tr>\n",
              "      <th>14</th>\n",
              "      <td>41</td>\n",
              "      <td>河北</td>\n",
              "      <td>唐山市维卓水产养殖有限公司</td>\n",
              "    </tr>\n",
              "    <tr>\n",
              "      <th>15</th>\n",
              "      <td>42</td>\n",
              "      <td>河北</td>\n",
              "      <td>唐山曹妃甸区丰英水产养殖有限公司</td>\n",
              "    </tr>\n",
              "    <tr>\n",
              "      <th>16</th>\n",
              "      <td>43</td>\n",
              "      <td>河北</td>\n",
              "      <td>唐山市曹妃甸区祥盛水产养殖场</td>\n",
              "    </tr>\n",
              "    <tr>\n",
              "      <th>17</th>\n",
              "      <td>44</td>\n",
              "      <td>河北</td>\n",
              "      <td>唐山市曹妃甸区盛茹水产养殖专业合作社</td>\n",
              "    </tr>\n",
              "    <tr>\n",
              "      <th>18</th>\n",
              "      <td>45</td>\n",
              "      <td>河北</td>\n",
              "      <td>唐山市曹妃甸区瑞达水产养殖专业合作社</td>\n",
              "    </tr>\n",
              "    <tr>\n",
              "      <th>19</th>\n",
              "      <td>46</td>\n",
              "      <td>河北</td>\n",
              "      <td>乐亭县马头营龙翔水产品养殖场</td>\n",
              "    </tr>\n",
              "    <tr>\n",
              "      <th>20</th>\n",
              "      <td>47</td>\n",
              "      <td>河北</td>\n",
              "      <td>永清县铭涵水产养殖有限公司</td>\n",
              "    </tr>\n",
              "    <tr>\n",
              "      <th>21</th>\n",
              "      <td>48</td>\n",
              "      <td>河北</td>\n",
              "      <td>阜平县鲜友水产养殖场</td>\n",
              "    </tr>\n",
              "    <tr>\n",
              "      <th>22</th>\n",
              "      <td>49</td>\n",
              "      <td>河北</td>\n",
              "      <td>平山县冀兴水产养殖专业合作社</td>\n",
              "    </tr>\n",
              "    <tr>\n",
              "      <th>23</th>\n",
              "      <td>50</td>\n",
              "      <td>河北</td>\n",
              "      <td>河北盈源农业发展集团鸳鸯湖景区旅游开发有限公司\\r(所属水产养殖场)</td>\n",
              "    </tr>\n",
              "    <tr>\n",
              "      <th>24</th>\n",
              "      <td>51</td>\n",
              "      <td>河北</td>\n",
              "      <td>怀来浩海养殖专业合作社</td>\n",
              "    </tr>\n",
              "    <tr>\n",
              "      <th>25</th>\n",
              "      <td>52</td>\n",
              "      <td>河北</td>\n",
              "      <td>昌黎县丽春海参养殖有限公司</td>\n",
              "    </tr>\n",
              "    <tr>\n",
              "      <th>26</th>\n",
              "      <td>53</td>\n",
              "      <td>山西</td>\n",
              "      <td>忻州市忻府区银泽鱼业养殖专业合作社</td>\n",
              "    </tr>\n",
              "    <tr>\n",
              "      <th>27</th>\n",
              "      <td>54</td>\n",
              "      <td>山西</td>\n",
              "      <td>山西尼尔曼农牧业发展有限公司(所属水产养殖场)</td>\n",
              "    </tr>\n",
              "    <tr>\n",
              "      <th>28</th>\n",
              "      <td>55</td>\n",
              "      <td>山西</td>\n",
              "      <td>侯马市水林水产品养殖专业合作社</td>\n",
              "    </tr>\n",
              "    <tr>\n",
              "      <th>29</th>\n",
              "      <td>56</td>\n",
              "      <td>山西</td>\n",
              "      <td>山西省水产育种养殖科学实验中心(所属水产养殖场)</td>\n",
              "    </tr>\n",
              "  </tbody>\n",
              "</table>\n",
              "</div>"
            ],
            "text/plain": [
              "    26  河北                     霸州市柒零年代种养殖专业合作社\n",
              "0   27  河北                 阜平县思铭乡村大酒店(所属水产养殖场)\n",
              "1   28  河北                            平山县凤龙养鱼场\n",
              "2   29  河北                        平山县郎咸玲冷水鱼养殖场\n",
              "3   30  河北                      井陉县绵冶冷水鱼养殖有限公司\n",
              "4   31  河北         石家庄市鹿泉区田语生态观光园有限公司(所属水产养殖场)\n",
              "5   32  河北                           鹿泉区万祥家庭农场\n",
              "6   33  河北                          鹿泉区黄滹甲鱼养殖场\n",
              "7   34  河北                           鹿泉区金龟园养殖场\n",
              "8   35  河北                             磁县学文养殖场\n",
              "9   36  河北                        河北福源水产养殖有限公司\n",
              "10  37  河北              邯郸市鑫垚农业科技有限公司(所属水产养殖场)\n",
              "11  38  河北                       秦皇岛启民水产养殖有限公司\n",
              "12  39  河北                       昌黎县振利水产养殖有限公司\n",
              "13  40  河北                      卢龙县永新水产养殖专业合作社\n",
              "14  41  河北                       唐山市维卓水产养殖有限公司\n",
              "15  42  河北                    唐山曹妃甸区丰英水产养殖有限公司\n",
              "16  43  河北                      唐山市曹妃甸区祥盛水产养殖场\n",
              "17  44  河北                  唐山市曹妃甸区盛茹水产养殖专业合作社\n",
              "18  45  河北                  唐山市曹妃甸区瑞达水产养殖专业合作社\n",
              "19  46  河北                      乐亭县马头营龙翔水产品养殖场\n",
              "20  47  河北                       永清县铭涵水产养殖有限公司\n",
              "21  48  河北                          阜平县鲜友水产养殖场\n",
              "22  49  河北                      平山县冀兴水产养殖专业合作社\n",
              "23  50  河北  河北盈源农业发展集团鸳鸯湖景区旅游开发有限公司\\r(所属水产养殖场)\n",
              "24  51  河北                         怀来浩海养殖专业合作社\n",
              "25  52  河北                       昌黎县丽春海参养殖有限公司\n",
              "26  53  山西                   忻州市忻府区银泽鱼业养殖专业合作社\n",
              "27  54  山西             山西尼尔曼农牧业发展有限公司(所属水产养殖场)\n",
              "28  55  山西                     侯马市水林水产品养殖专业合作社\n",
              "29  56  山西            山西省水产育种养殖科学实验中心(所属水产养殖场)"
            ]
          },
          "execution_count": 7,
          "metadata": {},
          "output_type": "execute_result"
        }
      ],
      "source": [
        "# check the second table\n",
        "dfs[1]\n",
        "\n",
        "# here's a problem: except the first page, all the tables have no header column.\n",
        "# instead, they have the first rows of data as their header columns"
      ]
    },
    {
      "cell_type": "code",
      "execution_count": null,
      "metadata": {
        "id": "RWMXzbG6EDA4",
        "outputId": "1113e8da-9474-4bcf-9f59-c3735d25a6e4"
      },
      "outputs": [
        {
          "name": "stdout",
          "output_type": "stream",
          "text": [
            "['list_index', 'location', 'company']\n"
          ]
        }
      ],
      "source": [
        "# new column header in English\n",
        "real_header = ['list_index', 'location', 'company']\n",
        "print(real_header)"
      ]
    },
    {
      "cell_type": "code",
      "execution_count": null,
      "metadata": {
        "id": "Wjey76KgEDA5"
      },
      "outputs": [],
      "source": [
        "real_header = ['list_index', 'location', 'company']\n",
        "df_list = []\n",
        "\n",
        "# isolat the first table with valid column header from the rest\n",
        "for dataframe in dfs[1:]:\n",
        "    # add a row to the end of each table\n",
        "    # assign the header values to these new rows\n",
        "    dataframe.loc[-1] = dataframe.columns\n",
        "    # assign real_header to the curent header\n",
        "    dataframe.columns =real_header\n",
        "    # chagne list_index from string to intger\n",
        "    dataframe.list_index = dataframe.list_index.astype(int)\n",
        "    # sort the dataframe by list_index\n",
        "    dataframe= dataframe.sort_values('list_index')\n",
        "    # add the dataframe to the list\n",
        "    df_list.append(dataframe)\n",
        "\n",
        "df = pd.concat(df_list).reset_index(drop=True)\n"
      ]
    },
    {
      "cell_type": "code",
      "execution_count": null,
      "metadata": {
        "id": "7ComvGH6EDA5",
        "outputId": "6b0cda3c-7c07-44a0-feab-b0fccbe7d6cd"
      },
      "outputs": [
        {
          "name": "stdout",
          "output_type": "stream",
          "text": [
            "<class 'pandas.core.frame.DataFrame'>\n",
            "RangeIndex: 945 entries, 0 to 944\n",
            "Data columns (total 3 columns):\n",
            " #   Column      Non-Null Count  Dtype \n",
            "---  ------      --------------  ----- \n",
            " 0   list_index  945 non-null    int64 \n",
            " 1   location    945 non-null    object\n",
            " 2   company     945 non-null    object\n",
            "dtypes: int64(1), object(2)\n",
            "memory usage: 22.3+ KB\n"
          ]
        }
      ],
      "source": [
        "\n",
        "# pass real_header to the curent header\n",
        "dfs[0].columns = real_header\n",
        "\n",
        "# concat df with dfs[0]\n",
        "finalized_df = pd.concat([dfs[0], df])\n",
        "# remove linebreaks\n",
        "finalized_df['company'] = finalized_df['company'].str.replace('\\r', '', regex=False)\n",
        "#reset_index\n",
        "finalized_df = finalized_df.reset_index(drop=True)\n",
        "#drop droplicated rows\n",
        "finalized_df = finalized_df.drop_duplicates(subset='company', keep='first')\n",
        "finalized_df.to_clipboard(index=False)\n",
        "finalized_df.info()"
      ]
    },
    {
      "cell_type": "code",
      "execution_count": null,
      "metadata": {
        "id": "qFRj3F_6EDA5",
        "outputId": "fcce2cba-eba1-4568-daca-4a28e1107e4d"
      },
      "outputs": [
        {
          "data": {
            "text/plain": [
              "'Sichuan'"
            ]
          },
          "execution_count": 24,
          "metadata": {},
          "output_type": "execute_result"
        }
      ],
      "source": [
        "translator.translate('四川').text"
      ]
    },
    {
      "cell_type": "code",
      "execution_count": null,
      "metadata": {
        "id": "ODTJ1croEDA5",
        "outputId": "5b69b5e3-8d37-4f9e-9cfe-0d94971c975e"
      },
      "outputs": [
        {
          "name": "stdout",
          "output_type": "stream",
          "text": [
            "Yuzhong Qingcheng Wuliang Farm\n"
          ]
        }
      ],
      "source": [
        "import time\n",
        "import random\n",
        "\n",
        "# utilize Google Translate through its unofficial api\n",
        "from googletrans import Translator\n",
        "\n",
        "# create a cache dict to store already translated data\n",
        "translated_cache= {}\n",
        "\n",
        "translator = Translator()\n",
        "\n",
        "def cn_translation(text, max_retries=5):\n",
        "    attempt = 0\n",
        "    delay = 2\n",
        "\n",
        "    if text in translated_cache:\n",
        "        print(\"Translation found in cache.\")\n",
        "        return translated_cache[text]\n",
        "\n",
        "    # add an exponential backoff factor to deal with rate limit\n",
        "    # set max attempt at five\n",
        "    while attempt < max_retries:\n",
        "        try:\n",
        "            eng_text = translator.translate(text).text\n",
        "            return eng_text\n",
        "        except Exception as e:\n",
        "            print(f\"Error: {e}. Retrying in {delay} seconds...\")\n",
        "            attempt += 1\n",
        "            time.sleep(delay)\n",
        "            # each error would prompt the next attempt to take a timeout by 5 * delay seconds\n",
        "            delay *= 5\n",
        "    raise Exception(f\"Failed to translate after {max_retries} retries.\")\n",
        "\n",
        "# Example usage:\n",
        "try:\n",
        "    print(cn_translation('榆中青城五良养殖场'))\n",
        "except Exception as e:\n",
        "    print(f\"Translation failed: {e}\")\n"
      ]
    },
    {
      "cell_type": "code",
      "execution_count": null,
      "metadata": {
        "id": "9d7mp_HFEDA6",
        "outputId": "282623b7-59ae-4297-dfb5-1faa17e77d89"
      },
      "outputs": [
        {
          "name": "stdout",
          "output_type": "stream",
          "text": [
            "Error: 'Translator' object has no attribute 'raise_Exception'. Retrying in 2 seconds...\n",
            "Error: 'Translator' object has no attribute 'raise_Exception'. Retrying in 10 seconds...\n",
            "Error: 'Translator' object has no attribute 'raise_Exception'. Retrying in 2 seconds...\n",
            "Error: 'Translator' object has no attribute 'raise_Exception'. Retrying in 10 seconds...\n",
            "Error: 'Translator' object has no attribute 'raise_Exception'. Retrying in 50 seconds...\n",
            "Error: 'Translator' object has no attribute 'raise_Exception'. Retrying in 2 seconds...\n",
            "Error: 'Translator' object has no attribute 'raise_Exception'. Retrying in 2 seconds...\n",
            "Error: 'Translator' object has no attribute 'raise_Exception'. Retrying in 2 seconds...\n",
            "Error: 'Translator' object has no attribute 'raise_Exception'. Retrying in 2 seconds...\n",
            "Error: 'Translator' object has no attribute 'raise_Exception'. Retrying in 2 seconds...\n",
            "Error: 'Translator' object has no attribute 'raise_Exception'. Retrying in 2 seconds...\n",
            "Error: 'Translator' object has no attribute 'raise_Exception'. Retrying in 2 seconds...\n",
            "Error: 'Translator' object has no attribute 'raise_Exception'. Retrying in 10 seconds...\n",
            "Error: 'Translator' object has no attribute 'raise_Exception'. Retrying in 2 seconds...\n",
            "Error: 'Translator' object has no attribute 'raise_Exception'. Retrying in 2 seconds...\n",
            "Error: 'Translator' object has no attribute 'raise_Exception'. Retrying in 2 seconds...\n",
            "Error: 'Translator' object has no attribute 'raise_Exception'. Retrying in 2 seconds...\n",
            "Error: 'Translator' object has no attribute 'raise_Exception'. Retrying in 2 seconds...\n",
            "Error: 'Translator' object has no attribute 'raise_Exception'. Retrying in 2 seconds...\n",
            "Error: 'Translator' object has no attribute 'raise_Exception'. Retrying in 10 seconds...\n",
            "Error: 'Translator' object has no attribute 'raise_Exception'. Retrying in 2 seconds...\n",
            "Error: 'Translator' object has no attribute 'raise_Exception'. Retrying in 2 seconds...\n",
            "Error: 'Translator' object has no attribute 'raise_Exception'. Retrying in 2 seconds...\n",
            "Error: 'Translator' object has no attribute 'raise_Exception'. Retrying in 2 seconds...\n",
            "Error: 'Translator' object has no attribute 'raise_Exception'. Retrying in 2 seconds...\n",
            "Error: 'Translator' object has no attribute 'raise_Exception'. Retrying in 2 seconds...\n",
            "Error: 'Translator' object has no attribute 'raise_Exception'. Retrying in 10 seconds...\n",
            "Error: 'Translator' object has no attribute 'raise_Exception'. Retrying in 50 seconds...\n",
            "Error: 'Translator' object has no attribute 'raise_Exception'. Retrying in 250 seconds...\n",
            "Error: 'Translator' object has no attribute 'raise_Exception'. Retrying in 2 seconds...\n",
            "Error: 'Translator' object has no attribute 'raise_Exception'. Retrying in 2 seconds...\n",
            "Error: 'Translator' object has no attribute 'raise_Exception'. Retrying in 2 seconds...\n",
            "Error: 'Translator' object has no attribute 'raise_Exception'. Retrying in 2 seconds...\n",
            "Error: 'Translator' object has no attribute 'raise_Exception'. Retrying in 2 seconds...\n",
            "Error: 'Translator' object has no attribute 'raise_Exception'. Retrying in 10 seconds...\n",
            "Error: 'Translator' object has no attribute 'raise_Exception'. Retrying in 50 seconds...\n",
            "Error: 'Translator' object has no attribute 'raise_Exception'. Retrying in 2 seconds...\n",
            "Error: 'Translator' object has no attribute 'raise_Exception'. Retrying in 2 seconds...\n",
            "Error: 'Translator' object has no attribute 'raise_Exception'. Retrying in 2 seconds...\n",
            "Error: 'Translator' object has no attribute 'raise_Exception'. Retrying in 2 seconds...\n",
            "Error: 'Translator' object has no attribute 'raise_Exception'. Retrying in 2 seconds...\n",
            "Error: 'Translator' object has no attribute 'raise_Exception'. Retrying in 2 seconds...\n",
            "Error: 'Translator' object has no attribute 'raise_Exception'. Retrying in 2 seconds...\n",
            "Error: 'Translator' object has no attribute 'raise_Exception'. Retrying in 2 seconds...\n",
            "Error: 'Translator' object has no attribute 'raise_Exception'. Retrying in 2 seconds...\n",
            "Error: 'Translator' object has no attribute 'raise_Exception'. Retrying in 10 seconds...\n",
            "Error: 'Translator' object has no attribute 'raise_Exception'. Retrying in 2 seconds...\n",
            "Error: 'Translator' object has no attribute 'raise_Exception'. Retrying in 2 seconds...\n",
            "Error: 'Translator' object has no attribute 'raise_Exception'. Retrying in 2 seconds...\n",
            "Error: 'Translator' object has no attribute 'raise_Exception'. Retrying in 2 seconds...\n",
            "Error: 'Translator' object has no attribute 'raise_Exception'. Retrying in 2 seconds...\n",
            "Error: 'Translator' object has no attribute 'raise_Exception'. Retrying in 2 seconds...\n",
            "Error: 'Translator' object has no attribute 'raise_Exception'. Retrying in 2 seconds...\n",
            "Error: 'Translator' object has no attribute 'raise_Exception'. Retrying in 2 seconds...\n",
            "Error: _ssl.c:983: The handshake operation timed out. Retrying in 2 seconds...\n",
            "Error: 'Translator' object has no attribute 'raise_Exception'. Retrying in 10 seconds...\n",
            "Error: 'Translator' object has no attribute 'raise_Exception'. Retrying in 2 seconds...\n",
            "Error: 'Translator' object has no attribute 'raise_Exception'. Retrying in 2 seconds...\n",
            "Error: 'Translator' object has no attribute 'raise_Exception'. Retrying in 2 seconds...\n",
            "CPU times: user 9.51 s, sys: 2.19 s, total: 11.7 s\n",
            "Wall time: 13min 41s\n"
          ]
        }
      ],
      "source": [
        "%%time\n",
        "# translate location names\n",
        "finalized_df['location_eng'] = finalized_df['location'].apply(cn_translation)"
      ]
    },
    {
      "cell_type": "code",
      "execution_count": null,
      "metadata": {
        "id": "uNbalVQmEDA6",
        "outputId": "7ad07c05-107d-49eb-f31e-add6c616b95d"
      },
      "outputs": [
        {
          "name": "stdout",
          "output_type": "stream",
          "text": [
            "Error: _ssl.c:983: The handshake operation timed out. Retrying in 1 seconds...\n",
            "CPU times: user 8.38 s, sys: 1.58 s, total: 9.96 s\n",
            "Wall time: 17min 12s\n"
          ]
        }
      ],
      "source": [
        "%%time\n",
        "\n",
        "# translate comapny's name\n",
        "finalized_df['company_eng'] = finalized_df['company'].apply(cn_translation)"
      ]
    },
    {
      "cell_type": "code",
      "execution_count": null,
      "metadata": {
        "id": "M8RTUFLbEDA6"
      },
      "outputs": [],
      "source": [
        "finalized_df.to_clipboard(index=False)"
      ]
    },
    {
      "cell_type": "code",
      "source": [
        "# import the second pdf\n",
        "\n",
        "file_path = # local path\n",
        "file_name_2 = \"outdated_demostration_sites.pdf\"\n",
        "file_2 = file_path+file_name_2\n",
        "print(file_2)"
      ],
      "metadata": {
        "id": "josCt9suHFZO"
      },
      "execution_count": null,
      "outputs": []
    },
    {
      "cell_type": "code",
      "execution_count": null,
      "metadata": {
        "id": "fAfVmW2xEDA6",
        "outputId": "324e4ba5-28b0-449b-8f31-baaff8f14051"
      },
      "outputs": [
        {
          "data": {
            "text/plain": [
              "11"
            ]
          },
          "execution_count": 48,
          "metadata": {},
          "output_type": "execute_result"
        }
      ],
      "source": [
        "# import all pages\n",
        "dfs = tabula.read_pdf(file_2, pages='all')\n",
        "len(dfs)"
      ]
    },
    {
      "cell_type": "code",
      "execution_count": null,
      "metadata": {
        "id": "OkGcotY7EDA6"
      },
      "outputs": [],
      "source": [
        "\n",
        "\n",
        "real_header = ['list_index', 'location', 'company', 'group_index']\n",
        "\n",
        "df_list = []\n",
        "\n",
        "for dataframe in dfs[1:]:\n",
        "    # create a last row whose values is from the header\n",
        "    dataframe.loc[-1] = dataframe.columns\n",
        "    # pass real_header to the curent header\n",
        "    dataframe.columns =real_header\n",
        "    # chagne list_index from string to intger\n",
        "    dataframe.list_index = dataframe.list_index.astype(int)\n",
        "    # sort the dataframe by list_index\n",
        "    dataframe= dataframe.sort_values('list_index')\n",
        "    # add the dataframe to the list\n",
        "    df_list.append(dataframe)\n",
        "\n",
        "df = pd.concat(df_list).reset_index(drop=True)\n"
      ]
    },
    {
      "cell_type": "code",
      "execution_count": null,
      "metadata": {
        "id": "Ljr98WtNEDA6",
        "outputId": "bf17bef0-aef7-463b-b0ef-83b1969b0a0b"
      },
      "outputs": [
        {
          "name": "stdout",
          "output_type": "stream",
          "text": [
            "<class 'pandas.core.frame.DataFrame'>\n",
            "Index: 326 entries, 0 to 326\n",
            "Data columns (total 4 columns):\n",
            " #   Column       Non-Null Count  Dtype \n",
            "---  ------       --------------  ----- \n",
            " 0   list_index   326 non-null    int64 \n",
            " 1   location     326 non-null    object\n",
            " 2   company      326 non-null    object\n",
            " 3   group_index  326 non-null    object\n",
            "dtypes: int64(1), object(3)\n",
            "memory usage: 12.7+ KB\n"
          ]
        }
      ],
      "source": [
        "# pass real_header to the curent header\n",
        "dfs[0].columns = real_header\n",
        "\n",
        "# concat df with dfs[0]\n",
        "finalized_df = pd.concat([dfs[0], df])\n",
        "# remove linebreaks\n",
        "finalized_df['company'] = finalized_df['company'].str.replace('\\r', '', regex=False)\n",
        "#reset_index\n",
        "finalized_df = finalized_df.reset_index(drop=True)\n",
        "#drop droplicated rows\n",
        "finalized_df = finalized_df.drop_duplicates(subset='company', keep='first')\n",
        "finalized_df.to_clipboard(index=False)\n",
        "finalized_df.info()"
      ]
    },
    {
      "cell_type": "code",
      "execution_count": null,
      "metadata": {
        "id": "qlM2b0YOEDA6",
        "outputId": "b72229eb-fb32-4f47-8268-d31e2efd8084"
      },
      "outputs": [
        {
          "name": "stdout",
          "output_type": "stream",
          "text": [
            "Translation found in cache.\n",
            "Translation found in cache.\n",
            "Translation found in cache.\n",
            "Translation found in cache.\n",
            "Translation found in cache.\n",
            "Translation found in cache.\n",
            "Translation found in cache.\n",
            "Translation found in cache.\n",
            "Translation found in cache.\n",
            "Translation found in cache.\n",
            "Translation found in cache.\n",
            "Translation found in cache.\n",
            "Translation found in cache.\n",
            "Translation found in cache.\n",
            "Translation found in cache.\n",
            "Translation found in cache.\n",
            "Translation found in cache.\n",
            "Translation found in cache.\n",
            "Translation found in cache.\n",
            "Translation found in cache.\n",
            "Translation found in cache.\n",
            "Translation found in cache.\n",
            "Translation found in cache.\n",
            "Translation found in cache.\n",
            "Translation found in cache.\n",
            "Translation found in cache.\n",
            "Translation found in cache.\n",
            "Translation found in cache.\n",
            "Translation found in cache.\n",
            "Translation found in cache.\n",
            "Translation found in cache.\n",
            "Translation found in cache.\n",
            "Translation found in cache.\n",
            "Translation found in cache.\n",
            "Translation found in cache.\n",
            "Translation found in cache.\n",
            "Translation found in cache.\n",
            "Translation found in cache.\n",
            "Translation found in cache.\n",
            "Translation found in cache.\n",
            "Translation found in cache.\n",
            "Translation found in cache.\n",
            "Translation found in cache.\n",
            "Translation found in cache.\n",
            "Translation found in cache.\n",
            "Translation found in cache.\n",
            "Translation found in cache.\n",
            "Translation found in cache.\n",
            "Translation found in cache.\n",
            "Translation found in cache.\n",
            "Translation found in cache.\n",
            "Translation found in cache.\n",
            "Translation found in cache.\n",
            "Translation found in cache.\n",
            "Translation found in cache.\n",
            "Translation found in cache.\n",
            "Translation found in cache.\n",
            "Translation found in cache.\n",
            "Translation found in cache.\n",
            "Translation found in cache.\n",
            "Translation found in cache.\n",
            "Translation found in cache.\n",
            "Translation found in cache.\n",
            "Translation found in cache.\n",
            "Translation found in cache.\n",
            "Translation found in cache.\n",
            "Translation found in cache.\n",
            "Translation found in cache.\n",
            "Translation found in cache.\n",
            "Translation found in cache.\n",
            "Translation found in cache.\n",
            "Translation found in cache.\n",
            "Translation found in cache.\n",
            "Translation found in cache.\n",
            "Translation found in cache.\n",
            "Translation found in cache.\n",
            "Translation found in cache.\n",
            "Translation found in cache.\n",
            "Translation found in cache.\n",
            "Translation found in cache.\n",
            "Translation found in cache.\n",
            "Translation found in cache.\n",
            "Translation found in cache.\n",
            "Translation found in cache.\n",
            "Translation found in cache.\n",
            "Translation found in cache.\n",
            "Translation found in cache.\n",
            "Translation found in cache.\n",
            "Translation found in cache.\n",
            "Translation found in cache.\n",
            "Translation found in cache.\n",
            "Translation found in cache.\n",
            "Translation found in cache.\n",
            "Translation found in cache.\n",
            "Translation found in cache.\n",
            "Translation found in cache.\n",
            "Translation found in cache.\n",
            "Translation found in cache.\n",
            "Translation found in cache.\n",
            "Translation found in cache.\n",
            "Translation found in cache.\n",
            "Translation found in cache.\n",
            "Translation found in cache.\n",
            "Translation found in cache.\n",
            "Translation found in cache.\n",
            "Translation found in cache.\n",
            "Translation found in cache.\n",
            "Translation found in cache.\n",
            "Translation found in cache.\n",
            "Translation found in cache.\n",
            "Translation found in cache.\n",
            "Translation found in cache.\n",
            "Translation found in cache.\n",
            "Translation found in cache.\n",
            "Translation found in cache.\n",
            "Translation found in cache.\n",
            "Translation found in cache.\n",
            "Translation found in cache.\n",
            "Translation found in cache.\n",
            "Translation found in cache.\n",
            "Translation found in cache.\n",
            "Translation found in cache.\n",
            "Translation found in cache.\n",
            "Translation found in cache.\n",
            "Translation found in cache.\n",
            "Translation found in cache.\n",
            "Translation found in cache.\n",
            "Translation found in cache.\n",
            "Translation found in cache.\n",
            "Translation found in cache.\n",
            "Translation found in cache.\n",
            "Translation found in cache.\n",
            "Translation found in cache.\n",
            "Translation found in cache.\n",
            "Translation found in cache.\n",
            "Translation found in cache.\n",
            "Translation found in cache.\n",
            "Translation found in cache.\n",
            "Translation found in cache.\n",
            "Translation found in cache.\n",
            "Translation found in cache.\n",
            "Translation found in cache.\n",
            "Translation found in cache.\n",
            "Translation found in cache.\n",
            "Translation found in cache.\n",
            "Translation found in cache.\n",
            "Translation found in cache.\n",
            "Translation found in cache.\n",
            "Translation found in cache.\n",
            "Translation found in cache.\n",
            "Translation found in cache.\n",
            "Translation found in cache.\n",
            "Translation found in cache.\n",
            "Translation found in cache.\n",
            "Translation found in cache.\n",
            "Translation found in cache.\n",
            "Translation found in cache.\n",
            "Translation found in cache.\n",
            "Translation found in cache.\n",
            "Translation found in cache.\n",
            "Translation found in cache.\n",
            "Translation found in cache.\n",
            "Translation found in cache.\n",
            "Translation found in cache.\n",
            "Translation found in cache.\n",
            "Translation found in cache.\n",
            "Translation found in cache.\n",
            "Translation found in cache.\n",
            "Translation found in cache.\n",
            "Translation found in cache.\n",
            "Translation found in cache.\n",
            "Translation found in cache.\n",
            "Translation found in cache.\n",
            "Translation found in cache.\n",
            "Translation found in cache.\n",
            "Translation found in cache.\n",
            "Translation found in cache.\n",
            "Translation found in cache.\n",
            "Translation found in cache.\n",
            "Translation found in cache.\n",
            "Translation found in cache.\n",
            "Translation found in cache.\n",
            "Translation found in cache.\n",
            "Translation found in cache.\n",
            "Translation found in cache.\n",
            "Translation found in cache.\n",
            "Translation found in cache.\n",
            "Translation found in cache.\n",
            "Translation found in cache.\n",
            "Translation found in cache.\n",
            "Translation found in cache.\n",
            "Translation found in cache.\n",
            "Translation found in cache.\n",
            "Translation found in cache.\n",
            "Translation found in cache.\n",
            "Translation found in cache.\n",
            "Translation found in cache.\n",
            "Translation found in cache.\n",
            "Translation found in cache.\n",
            "Translation found in cache.\n",
            "Translation found in cache.\n",
            "Translation found in cache.\n",
            "Translation found in cache.\n",
            "Translation found in cache.\n",
            "Translation found in cache.\n",
            "Translation found in cache.\n",
            "Translation found in cache.\n",
            "Translation found in cache.\n",
            "Translation found in cache.\n",
            "Translation found in cache.\n",
            "Translation found in cache.\n",
            "Translation found in cache.\n",
            "Translation found in cache.\n",
            "Translation found in cache.\n",
            "Translation found in cache.\n",
            "Translation found in cache.\n",
            "Translation found in cache.\n",
            "Translation found in cache.\n",
            "Translation found in cache.\n",
            "Translation found in cache.\n",
            "Translation found in cache.\n",
            "Translation found in cache.\n",
            "Translation found in cache.\n",
            "Translation found in cache.\n",
            "Translation found in cache.\n",
            "Translation found in cache.\n",
            "Translation found in cache.\n",
            "Translation found in cache.\n",
            "Translation found in cache.\n",
            "Translation found in cache.\n",
            "Translation found in cache.\n",
            "Translation found in cache.\n",
            "Translation found in cache.\n",
            "Translation found in cache.\n",
            "Translation found in cache.\n",
            "Translation found in cache.\n",
            "Translation found in cache.\n",
            "Translation found in cache.\n",
            "Translation found in cache.\n",
            "Translation found in cache.\n",
            "Translation found in cache.\n",
            "Translation found in cache.\n",
            "Translation found in cache.\n",
            "Translation found in cache.\n",
            "Translation found in cache.\n",
            "Translation found in cache.\n",
            "Translation found in cache.\n",
            "Translation found in cache.\n",
            "Translation found in cache.\n",
            "Translation found in cache.\n",
            "Translation found in cache.\n",
            "Translation found in cache.\n",
            "Translation found in cache.\n",
            "Translation found in cache.\n",
            "Translation found in cache.\n",
            "Translation found in cache.\n",
            "Translation found in cache.\n",
            "Translation found in cache.\n",
            "Translation found in cache.\n",
            "Translation found in cache.\n",
            "Translation found in cache.\n",
            "Translation found in cache.\n",
            "Translation found in cache.\n",
            "Translation found in cache.\n",
            "Translation found in cache.\n",
            "Translation found in cache.\n",
            "Translation found in cache.\n",
            "Translation found in cache.\n",
            "Translation found in cache.\n",
            "Translation found in cache.\n",
            "Translation found in cache.\n",
            "Translation found in cache.\n",
            "Translation found in cache.\n",
            "Translation found in cache.\n",
            "Translation found in cache.\n",
            "Translation found in cache.\n",
            "Translation found in cache.\n",
            "Translation found in cache.\n",
            "Translation found in cache.\n",
            "Translation found in cache.\n",
            "Translation found in cache.\n",
            "Translation found in cache.\n",
            "Translation found in cache.\n",
            "Translation found in cache.\n",
            "Translation found in cache.\n",
            "Translation found in cache.\n",
            "Translation found in cache.\n",
            "Translation found in cache.\n",
            "Translation found in cache.\n",
            "Translation found in cache.\n",
            "Translation found in cache.\n",
            "Translation found in cache.\n",
            "Translation found in cache.\n",
            "Translation found in cache.\n",
            "Translation found in cache.\n",
            "Translation found in cache.\n",
            "Translation found in cache.\n"
          ]
        }
      ],
      "source": [
        "# translate location names\n",
        "finalized_df['location_eng'] = finalized_df['location'].apply(cn_translation)\n",
        "# translate comapny's name\n",
        "finalized_df['company_eng'] = finalized_df['company'].apply(cn_translation)"
      ]
    },
    {
      "cell_type": "code",
      "execution_count": null,
      "metadata": {
        "id": "44a6o5y8EDA6",
        "outputId": "b3cbac42-1a8e-478e-994b-aa74a2d69478"
      },
      "outputs": [
        {
          "name": "stdout",
          "output_type": "stream",
          "text": [
            "<class 'pandas.core.frame.DataFrame'>\n",
            "Index: 326 entries, 0 to 326\n",
            "Data columns (total 6 columns):\n",
            " #   Column        Non-Null Count  Dtype \n",
            "---  ------        --------------  ----- \n",
            " 0   list_index    326 non-null    int64 \n",
            " 1   location      326 non-null    object\n",
            " 2   company       326 non-null    object\n",
            " 3   group_index   326 non-null    object\n",
            " 4   location_eng  326 non-null    object\n",
            " 5   company_eng   326 non-null    object\n",
            "dtypes: int64(1), object(5)\n",
            "memory usage: 25.9+ KB\n"
          ]
        }
      ],
      "source": [
        "finalized_df.info()"
      ]
    },
    {
      "cell_type": "code",
      "execution_count": null,
      "metadata": {
        "id": "EgcAavXvEDA7"
      },
      "outputs": [],
      "source": [
        "finalized_df.to_clipboard(index=False)"
      ]
    },
    {
      "cell_type": "code",
      "execution_count": null,
      "metadata": {
        "id": "-K9d-SO3EDA7"
      },
      "outputs": [],
      "source": []
    }
  ],
  "metadata": {
    "kernelspec": {
      "display_name": "Python 3",
      "language": "python",
      "name": "python3"
    },
    "language_info": {
      "codemirror_mode": {
        "name": "ipython",
        "version": 3
      },
      "file_extension": ".py",
      "mimetype": "text/x-python",
      "name": "python",
      "nbconvert_exporter": "python",
      "pygments_lexer": "ipython3",
      "version": "3.12.0"
    },
    "colab": {
      "provenance": []
    }
  },
  "nbformat": 4,
  "nbformat_minor": 0
}